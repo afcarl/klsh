{
 "metadata": {
  "name": "",
  "signature": "sha256:556babb50bf4aadf9f646e51fb09ab3c2d85e22eced690d735098ceb00a79abf"
 },
 "nbformat": 3,
 "nbformat_minor": 0,
 "worksheets": [
  {
   "cells": [
    {
     "cell_type": "heading",
     "level": 1,
     "metadata": {},
     "source": [
      "Linear Kernel KLSH Benchmarks"
     ]
    },
    {
     "cell_type": "markdown",
     "metadata": {},
     "source": [
      "This is a test of a Python implementation of Kernelized Locality Sensitive Hashing (KLSH), first reported in [Kulis & Grauman 2009](http://citeseerx.ist.psu.edu/viewdoc/summary?doi=10.1.1.167.4414). The Python code is available at http://github.com/jakevdp/klsh/"
     ]
    },
    {
     "cell_type": "code",
     "collapsed": false,
     "input": [
      "%matplotlib inline\n",
      "import numpy as np\n",
      "import matplotlib.pyplot as plt\n",
      "\n",
      "import os\n",
      "import sys\n",
      "sys.path.append(os.path.abspath('..'))\n",
      "from klsh import KernelLSH\n",
      "from klsh.utils import timeit"
     ],
     "language": "python",
     "metadata": {},
     "outputs": [],
     "prompt_number": 1
    },
    {
     "cell_type": "heading",
     "level": 2,
     "metadata": {},
     "source": [
      "Quick Demo"
     ]
    },
    {
     "cell_type": "markdown",
     "metadata": {},
     "source": [
      "Let's search for $k=1$ nearest point among 10000. We'll use 1000 query points."
     ]
    },
    {
     "cell_type": "code",
     "collapsed": false,
     "input": [
      "# Generate some data\n",
      "rng = np.random.RandomState(0)\n",
      "X = rng.randn(10000, 10)\n",
      "Y = rng.randn(1000, 10)"
     ],
     "language": "python",
     "metadata": {},
     "outputs": [],
     "prompt_number": 2
    },
    {
     "cell_type": "code",
     "collapsed": false,
     "input": [
      "# time the training phase\n",
      "with timeit(\"Time to train hashing: {0:.2g} sec\"):\n",
      "    klsh = KernelLSH(nbits=64, epsilon=0.5,\n",
      "                     subspace_size=300, sample_size=30,\n",
      "                     random_state=0)\n",
      "    klsh.fit(X)\n",
      "    print(\"kernel evaluations: {0:.2g}\".format(klsh.kernel_evaluations))"
     ],
     "language": "python",
     "metadata": {},
     "outputs": [
      {
       "output_type": "stream",
       "stream": "stdout",
       "text": [
        "kernel evaluations: 3.1e+06\n",
        "Time to train hashing: 0.18 sec\n"
       ]
      }
     ],
     "prompt_number": 3
    },
    {
     "cell_type": "code",
     "collapsed": false,
     "input": [
      "# time the approximate query\n",
      "with timeit(\"Time for approximate query on 1000 pts: {0:.2g} sec\"):\n",
      "    evals = klsh.kernel_evaluations\n",
      "    nbrs_approx = klsh.query(Y, 1)\n",
      "    print(\"kernel evaluations: {0:.2g}\".format(klsh.kernel_evaluations - evals))"
     ],
     "language": "python",
     "metadata": {},
     "outputs": [
      {
       "output_type": "stream",
       "stream": "stdout",
       "text": [
        "kernel evaluations: 7.6e+05\n",
        "Time for approximate query on 1000 pts: 2.3 sec\n"
       ]
      }
     ],
     "prompt_number": 4
    },
    {
     "cell_type": "code",
     "collapsed": false,
     "input": [
      "# time the exact (linear scan) query\n",
      "with timeit(\"Time for linear scan query on 1000 pts: {0:.2g} sec\"):\n",
      "    evals = klsh.kernel_evaluations\n",
      "    nbrs_true = klsh.query_brute(Y, 1)\n",
      "    print(\"kernel evaluations: {0:.2g}\".format(klsh.kernel_evaluations - evals))"
     ],
     "language": "python",
     "metadata": {},
     "outputs": [
      {
       "output_type": "stream",
       "stream": "stdout",
       "text": [
        "kernel evaluations: 1e+07\n",
        "Time for linear scan query on 1000 pts: 0.73 sec\n"
       ]
      }
     ],
     "prompt_number": 5
    },
    {
     "cell_type": "code",
     "collapsed": false,
     "input": [
      "# check the accuracy\n",
      "acc = (nbrs_approx == nbrs_true).sum() * 1. / nbrs_true.size\n",
      "print(\"Accuracy of approximate neighbors: {0:.2g}\".format(acc))"
     ],
     "language": "python",
     "metadata": {},
     "outputs": [
      {
       "output_type": "stream",
       "stream": "stdout",
       "text": [
        "Accuracy of approximate neighbors: 0.91\n"
       ]
      }
     ],
     "prompt_number": 6
    },
    {
     "cell_type": "heading",
     "level": 2,
     "metadata": {},
     "source": [
      "Evaluating the effect of the tuning parameters"
     ]
    },
    {
     "cell_type": "markdown",
     "metadata": {},
     "source": [
      "Let's see how the various tuning parameters affect the accuracy and the number of kernel evaluations"
     ]
    },
    {
     "cell_type": "code",
     "collapsed": false,
     "input": [
      "def test_variation(X, Y, nbits, epsilon, subspace_size, sample_size):\n",
      "    B = np.broadcast(nbits, epsilon, subspace_size, sample_size)\n",
      "    kernel_evals = np.zeros(B.shape, dtype=int)\n",
      "    accuracy = np.zeros(B.shape, dtype=float)\n",
      "    \n",
      "    nbrs_true = KernelLSH().fit(X).query_brute(Y, 1)\n",
      "    \n",
      "    for i, (n, e, p, t) in enumerate(B):\n",
      "        klsh = KernelLSH(nbits=n, epsilon=e,\n",
      "                         subspace_size=p, sample_size=t,\n",
      "                         random_state=0)\n",
      "        klsh.fit(X)\n",
      "        klsh.kernel_evaluations = 0\n",
      "        nbrs_approx = klsh.query(Y, 1)\n",
      "        kernel_evals.flat[i] = klsh.kernel_evaluations\n",
      "        accuracy.flat[i] = (nbrs_approx == nbrs_true).sum() * 1. / nbrs_true.size\n",
      "    return kernel_evals, accuracy"
     ],
     "language": "python",
     "metadata": {},
     "outputs": [],
     "prompt_number": 7
    },
    {
     "cell_type": "code",
     "collapsed": false,
     "input": [
      "# Some default parameters (we'll explore these later)\n",
      "labels = ['epsilon', 'nbits', 'subspace_size', 'sample_size']\n",
      "default_kwds = dict(nbits=64, epsilon=0.5, subspace_size=300, sample_size=30)\n",
      "varying_kwds = dict(nbits = [8, 16, 32, 64, 128, 256, 300],\n",
      "                    epsilon = [0.0, 0.1, 0.2, 0.5, 1.0, 1.5],\n",
      "                    subspace_size = [150, 200, 250, 300, 350, 400],\n",
      "                    sample_size = [10, 20, 30, 40, 50, 60])\n",
      "results = {}\n",
      "\n",
      "for label in labels:\n",
      "    kwds = default_kwds.copy()\n",
      "    kwds[label] = varying_kwds[label]\n",
      "    with timeit(\"Time to test varying \" + label + \": {0:.2g} sec\"):\n",
      "        results[label] = test_variation(X, Y, **kwds)"
     ],
     "language": "python",
     "metadata": {},
     "outputs": [
      {
       "output_type": "stream",
       "stream": "stdout",
       "text": [
        "Time to test varying epsilon: 24 sec\n",
        "Time to test varying nbits: 20 sec"
       ]
      },
      {
       "output_type": "stream",
       "stream": "stdout",
       "text": [
        "\n",
        "Time to test varying subspace_size: 16 sec"
       ]
      },
      {
       "output_type": "stream",
       "stream": "stdout",
       "text": [
        "\n",
        "Time to test varying sample_size: 16 sec"
       ]
      },
      {
       "output_type": "stream",
       "stream": "stdout",
       "text": [
        "\n"
       ]
      }
     ],
     "prompt_number": 8
    },
    {
     "cell_type": "code",
     "collapsed": false,
     "input": [
      "fig, ax = plt.subplots(2, 4, figsize=(10.5, 4),\n",
      "                       sharex='col', sharey='row')\n",
      "\n",
      "for i, label in enumerate(labels):\n",
      "    ax[0, i].semilogy(varying_kwds[label], results[label][0], '-k')\n",
      "    ax[1, i].plot(varying_kwds[label], results[label][1], '-k')\n",
      "    \n",
      "    ax[0, i].axvline(default_kwds[label], linestyle='dotted', color='gray')\n",
      "    ax[1, i].axvline(default_kwds[label], linestyle='dotted', color='gray')\n",
      "    \n",
      "    ax[1, i].set_xlabel(label)\n",
      "    ax[1, i].xaxis.set_major_locator(plt.MaxNLocator(5))\n",
      "\n",
      "ax[0, 0].set_ylim(1E5, 1E7)\n",
      "ax[0, 0].set_xlim(0, 1.5)\n",
      "ax[0, 0].set_ylabel('kernel evaluations')\n",
      "ax[1, 0].set_ylabel('accuracy');"
     ],
     "language": "python",
     "metadata": {},
     "outputs": [
      {
       "metadata": {},
       "output_type": "display_data",
       "png": "[encoded data removed]",
       "text": [
        "<matplotlib.figure.Figure at 0x10835f2d0>"
       ]
      }
     ],
     "prompt_number": 9
    },
    {
     "cell_type": "markdown",
     "metadata": {},
     "source": [
      "Apparently ``epsilon`` and ``nbits`` are the most important considerations for the accuracy of the result. ``epsilon`` in particular encodes the tradeoff between compute time (number of kernel evaluations) and accuracy."
     ]
    }
   ],
   "metadata": {}
  }
 ]
}